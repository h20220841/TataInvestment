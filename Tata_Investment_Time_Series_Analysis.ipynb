{
  "nbformat": 4,
  "nbformat_minor": 0,
  "metadata": {
    "colab": {
      "provenance": []
    },
    "kernelspec": {
      "name": "python3",
      "display_name": "Python 3"
    },
    "language_info": {
      "name": "python"
    }
  },
  "cells": [
    {
      "cell_type": "markdown",
      "source": [
        "## Stock Price Prediction"
      ],
      "metadata": {
        "id": "17_M3qisFZla"
      }
    },
    {
      "cell_type": "markdown",
      "source": [
        "In this notebook, we will discover and explore data from the stock market, particularly to Tata Investment.I will use **yfinance** to get stock information, and visualize different aspects of it using Seaborn and Matplotlib. Firstly I will look at a few ways of analyzing the risk of a stock, based on its previous performance history hen we will also be predicting future stock prices through a **Long Short Term Memory (LSTM)** method!\n",
        "\n",
        "We'll be answering the following questions along the way:\n",
        "\n",
        "* How can we attempt to predict future stock behavior? (Predicting the closing price stock price of **TATAINVESTMENT**  using **LSTM**)"
      ],
      "metadata": {
        "id": "7uYRNVkzFlWx"
      }
    },
    {
      "cell_type": "markdown",
      "source": [
        "### Download the Data set"
      ],
      "metadata": {
        "id": "J9KQWNqFGY3p"
      }
    },
    {
      "cell_type": "code",
      "execution_count": 1,
      "metadata": {
        "id": "lyemIfO8E3I_"
      },
      "outputs": [],
      "source": [
        "#install import library\n",
        "!pip install -q yfinance"
      ]
    },
    {
      "cell_type": "code",
      "source": [
        "#import essential library for analysis\n",
        "import pandas as pd\n",
        "import numpy as np\n",
        "\n",
        "import matplotlib.pyplot as plt\n",
        "import seaborn as sns\n",
        "sns.set_style('whitegrid')\n",
        "plt.style.use(\"fivethirtyeight\")\n",
        "%matplotlib inline\n",
        "\n",
        "# For reading stock data from yahoo\n",
        "from pandas_datareader.data import DataReader\n",
        "import yfinance as yf\n",
        "from pandas_datareader import data as pdr\n",
        "\n",
        "yf.pdr_override()"
      ],
      "metadata": {
        "id": "3chI1o8NGd8w"
      },
      "execution_count": 2,
      "outputs": []
    },
    {
      "cell_type": "code",
      "source": [
        "#Get the stock data of TATA Investment\n",
        "df = pdr.get_data_yahoo('TATAINVEST.NS', start='2013-01-01', end=datetime.now())\n",
        "df.head()"
      ],
      "metadata": {
        "colab": {
          "base_uri": "https://localhost:8080/",
          "height": 255
        },
        "id": "zO8TZlpcHT_9",
        "outputId": "e26c45bf-ad9f-42ee-d5ef-0f73b524899a"
      },
      "execution_count": 5,
      "outputs": [
        {
          "output_type": "stream",
          "name": "stdout",
          "text": [
            "\r[*********************100%%**********************]  1 of 1 completed\n"
          ]
        },
        {
          "output_type": "execute_result",
          "data": {
            "text/plain": [
              "                  Open        High         Low       Close   Adj Close  Volume\n",
              "Date                                                                          \n",
              "2013-01-01  462.950012  468.850006  462.049988  467.600006  345.631470    7826\n",
              "2013-01-02  455.000000  474.649994  455.000000  471.200012  348.292511   12235\n",
              "2013-01-03  477.899994  479.000000  471.200012  477.350006  352.838257   16238\n",
              "2013-01-04  477.950012  477.950012  468.000000  470.649994  347.885986    9100\n",
              "2013-01-07  472.149994  475.549988  465.100006  468.450012  346.259827    9347"
            ],
            "text/html": [
              "\n",
              "  <div id=\"df-2ffe1f96-9216-455c-8154-b4193979a4e0\" class=\"colab-df-container\">\n",
              "    <div>\n",
              "<style scoped>\n",
              "    .dataframe tbody tr th:only-of-type {\n",
              "        vertical-align: middle;\n",
              "    }\n",
              "\n",
              "    .dataframe tbody tr th {\n",
              "        vertical-align: top;\n",
              "    }\n",
              "\n",
              "    .dataframe thead th {\n",
              "        text-align: right;\n",
              "    }\n",
              "</style>\n",
              "<table border=\"1\" class=\"dataframe\">\n",
              "  <thead>\n",
              "    <tr style=\"text-align: right;\">\n",
              "      <th></th>\n",
              "      <th>Open</th>\n",
              "      <th>High</th>\n",
              "      <th>Low</th>\n",
              "      <th>Close</th>\n",
              "      <th>Adj Close</th>\n",
              "      <th>Volume</th>\n",
              "    </tr>\n",
              "    <tr>\n",
              "      <th>Date</th>\n",
              "      <th></th>\n",
              "      <th></th>\n",
              "      <th></th>\n",
              "      <th></th>\n",
              "      <th></th>\n",
              "      <th></th>\n",
              "    </tr>\n",
              "  </thead>\n",
              "  <tbody>\n",
              "    <tr>\n",
              "      <th>2013-01-01</th>\n",
              "      <td>462.950012</td>\n",
              "      <td>468.850006</td>\n",
              "      <td>462.049988</td>\n",
              "      <td>467.600006</td>\n",
              "      <td>345.631470</td>\n",
              "      <td>7826</td>\n",
              "    </tr>\n",
              "    <tr>\n",
              "      <th>2013-01-02</th>\n",
              "      <td>455.000000</td>\n",
              "      <td>474.649994</td>\n",
              "      <td>455.000000</td>\n",
              "      <td>471.200012</td>\n",
              "      <td>348.292511</td>\n",
              "      <td>12235</td>\n",
              "    </tr>\n",
              "    <tr>\n",
              "      <th>2013-01-03</th>\n",
              "      <td>477.899994</td>\n",
              "      <td>479.000000</td>\n",
              "      <td>471.200012</td>\n",
              "      <td>477.350006</td>\n",
              "      <td>352.838257</td>\n",
              "      <td>16238</td>\n",
              "    </tr>\n",
              "    <tr>\n",
              "      <th>2013-01-04</th>\n",
              "      <td>477.950012</td>\n",
              "      <td>477.950012</td>\n",
              "      <td>468.000000</td>\n",
              "      <td>470.649994</td>\n",
              "      <td>347.885986</td>\n",
              "      <td>9100</td>\n",
              "    </tr>\n",
              "    <tr>\n",
              "      <th>2013-01-07</th>\n",
              "      <td>472.149994</td>\n",
              "      <td>475.549988</td>\n",
              "      <td>465.100006</td>\n",
              "      <td>468.450012</td>\n",
              "      <td>346.259827</td>\n",
              "      <td>9347</td>\n",
              "    </tr>\n",
              "  </tbody>\n",
              "</table>\n",
              "</div>\n",
              "    <div class=\"colab-df-buttons\">\n",
              "\n",
              "  <div class=\"colab-df-container\">\n",
              "    <button class=\"colab-df-convert\" onclick=\"convertToInteractive('df-2ffe1f96-9216-455c-8154-b4193979a4e0')\"\n",
              "            title=\"Convert this dataframe to an interactive table.\"\n",
              "            style=\"display:none;\">\n",
              "\n",
              "  <svg xmlns=\"http://www.w3.org/2000/svg\" height=\"24px\" viewBox=\"0 -960 960 960\">\n",
              "    <path d=\"M120-120v-720h720v720H120Zm60-500h600v-160H180v160Zm220 220h160v-160H400v160Zm0 220h160v-160H400v160ZM180-400h160v-160H180v160Zm440 0h160v-160H620v160ZM180-180h160v-160H180v160Zm440 0h160v-160H620v160Z\"/>\n",
              "  </svg>\n",
              "    </button>\n",
              "\n",
              "  <style>\n",
              "    .colab-df-container {\n",
              "      display:flex;\n",
              "      gap: 12px;\n",
              "    }\n",
              "\n",
              "    .colab-df-convert {\n",
              "      background-color: #E8F0FE;\n",
              "      border: none;\n",
              "      border-radius: 50%;\n",
              "      cursor: pointer;\n",
              "      display: none;\n",
              "      fill: #1967D2;\n",
              "      height: 32px;\n",
              "      padding: 0 0 0 0;\n",
              "      width: 32px;\n",
              "    }\n",
              "\n",
              "    .colab-df-convert:hover {\n",
              "      background-color: #E2EBFA;\n",
              "      box-shadow: 0px 1px 2px rgba(60, 64, 67, 0.3), 0px 1px 3px 1px rgba(60, 64, 67, 0.15);\n",
              "      fill: #174EA6;\n",
              "    }\n",
              "\n",
              "    .colab-df-buttons div {\n",
              "      margin-bottom: 4px;\n",
              "    }\n",
              "\n",
              "    [theme=dark] .colab-df-convert {\n",
              "      background-color: #3B4455;\n",
              "      fill: #D2E3FC;\n",
              "    }\n",
              "\n",
              "    [theme=dark] .colab-df-convert:hover {\n",
              "      background-color: #434B5C;\n",
              "      box-shadow: 0px 1px 3px 1px rgba(0, 0, 0, 0.15);\n",
              "      filter: drop-shadow(0px 1px 2px rgba(0, 0, 0, 0.3));\n",
              "      fill: #FFFFFF;\n",
              "    }\n",
              "  </style>\n",
              "\n",
              "    <script>\n",
              "      const buttonEl =\n",
              "        document.querySelector('#df-2ffe1f96-9216-455c-8154-b4193979a4e0 button.colab-df-convert');\n",
              "      buttonEl.style.display =\n",
              "        google.colab.kernel.accessAllowed ? 'block' : 'none';\n",
              "\n",
              "      async function convertToInteractive(key) {\n",
              "        const element = document.querySelector('#df-2ffe1f96-9216-455c-8154-b4193979a4e0');\n",
              "        const dataTable =\n",
              "          await google.colab.kernel.invokeFunction('convertToInteractive',\n",
              "                                                    [key], {});\n",
              "        if (!dataTable) return;\n",
              "\n",
              "        const docLinkHtml = 'Like what you see? Visit the ' +\n",
              "          '<a target=\"_blank\" href=https://colab.research.google.com/notebooks/data_table.ipynb>data table notebook</a>'\n",
              "          + ' to learn more about interactive tables.';\n",
              "        element.innerHTML = '';\n",
              "        dataTable['output_type'] = 'display_data';\n",
              "        await google.colab.output.renderOutput(dataTable, element);\n",
              "        const docLink = document.createElement('div');\n",
              "        docLink.innerHTML = docLinkHtml;\n",
              "        element.appendChild(docLink);\n",
              "      }\n",
              "    </script>\n",
              "  </div>\n",
              "\n",
              "\n",
              "<div id=\"df-da9871ad-d79c-4504-a68c-509e5e506e12\">\n",
              "  <button class=\"colab-df-quickchart\" onclick=\"quickchart('df-da9871ad-d79c-4504-a68c-509e5e506e12')\"\n",
              "            title=\"Suggest charts.\"\n",
              "            style=\"display:none;\">\n",
              "\n",
              "<svg xmlns=\"http://www.w3.org/2000/svg\" height=\"24px\"viewBox=\"0 0 24 24\"\n",
              "     width=\"24px\">\n",
              "    <g>\n",
              "        <path d=\"M19 3H5c-1.1 0-2 .9-2 2v14c0 1.1.9 2 2 2h14c1.1 0 2-.9 2-2V5c0-1.1-.9-2-2-2zM9 17H7v-7h2v7zm4 0h-2V7h2v10zm4 0h-2v-4h2v4z\"/>\n",
              "    </g>\n",
              "</svg>\n",
              "  </button>\n",
              "\n",
              "<style>\n",
              "  .colab-df-quickchart {\n",
              "    background-color: #E8F0FE;\n",
              "    border: none;\n",
              "    border-radius: 50%;\n",
              "    cursor: pointer;\n",
              "    display: none;\n",
              "    fill: #1967D2;\n",
              "    height: 32px;\n",
              "    padding: 0 0 0 0;\n",
              "    width: 32px;\n",
              "  }\n",
              "\n",
              "  .colab-df-quickchart:hover {\n",
              "    background-color: #E2EBFA;\n",
              "    box-shadow: 0px 1px 2px rgba(60, 64, 67, 0.3), 0px 1px 3px 1px rgba(60, 64, 67, 0.15);\n",
              "    fill: #174EA6;\n",
              "  }\n",
              "\n",
              "  [theme=dark] .colab-df-quickchart {\n",
              "    background-color: #3B4455;\n",
              "    fill: #D2E3FC;\n",
              "  }\n",
              "\n",
              "  [theme=dark] .colab-df-quickchart:hover {\n",
              "    background-color: #434B5C;\n",
              "    box-shadow: 0px 1px 3px 1px rgba(0, 0, 0, 0.15);\n",
              "    filter: drop-shadow(0px 1px 2px rgba(0, 0, 0, 0.3));\n",
              "    fill: #FFFFFF;\n",
              "  }\n",
              "</style>\n",
              "\n",
              "  <script>\n",
              "    async function quickchart(key) {\n",
              "      const charts = await google.colab.kernel.invokeFunction(\n",
              "          'suggestCharts', [key], {});\n",
              "    }\n",
              "    (() => {\n",
              "      let quickchartButtonEl =\n",
              "        document.querySelector('#df-da9871ad-d79c-4504-a68c-509e5e506e12 button');\n",
              "      quickchartButtonEl.style.display =\n",
              "        google.colab.kernel.accessAllowed ? 'block' : 'none';\n",
              "    })();\n",
              "  </script>\n",
              "</div>\n",
              "    </div>\n",
              "  </div>\n"
            ]
          },
          "metadata": {},
          "execution_count": 5
        }
      ]
    },
    {
      "cell_type": "code",
      "source": [
        "df.shape"
      ],
      "metadata": {
        "colab": {
          "base_uri": "https://localhost:8080/"
        },
        "id": "RlDdzvgIHZ2G",
        "outputId": "bd18177a-c35f-44fd-d65c-16c0e77669fc"
      },
      "execution_count": 6,
      "outputs": [
        {
          "output_type": "execute_result",
          "data": {
            "text/plain": [
              "(2631, 6)"
            ]
          },
          "metadata": {},
          "execution_count": 6
        }
      ]
    },
    {
      "cell_type": "code",
      "source": [
        "#Plot the time series data set\n",
        "plt.figure(figsize=(16,6))\n",
        "plt.title('Close Price History')\n",
        "plt.plot(df['Close'])\n",
        "plt.xlabel('Date', fontsize=18)\n",
        "plt.ylabel('Close Price USD (INR)', fontsize=18)\n",
        "plt.show()"
      ],
      "metadata": {
        "colab": {
          "base_uri": "https://localhost:8080/",
          "height": 346
        },
        "id": "JcrU6NO5Hp9k",
        "outputId": "f19d47d6-7f29-4c43-dd63-b5a36295576e"
      },
      "execution_count": 7,
      "outputs": [
        {
          "output_type": "display_data",
          "data": {
            "text/plain": [
              "<Figure size 1600x600 with 1 Axes>"
            ],
            "image/png": "[encoded data removed]"
          },
          "metadata": {}
        }
      ]
    },
    {
      "cell_type": "code",
      "source": [
        "# Create a new dataframe with only the 'close' column\n",
        "data = df.filter(['Close'])\n",
        "\n",
        "#Convert the dataframe to a numpy array\n",
        "dataset = data.values\n",
        "\n",
        "#Get the number of rows to train the model\n",
        "training_data_len = int(np.ceil( len(dataset) * .95))\n",
        "#np.ceil(): It ensures that the calculated training data length is always rounded up to the nearest whole number.\n",
        "\n",
        "training_data_len"
      ],
      "metadata": {
        "colab": {
          "base_uri": "https://localhost:8080/"
        },
        "id": "UiNtmyLEH75n",
        "outputId": "da3fa5f3-cb1a-454b-f5ca-57cdf76d8150"
      },
      "execution_count": 8,
      "outputs": [
        {
          "output_type": "execute_result",
          "data": {
            "text/plain": [
              "2500"
            ]
          },
          "metadata": {},
          "execution_count": 8
        }
      ]
    },
    {
      "cell_type": "code",
      "source": [
        "#Scale the data\n",
        "from sklearn.preprocessing import MinMaxScaler\n",
        "\n",
        "scaler = MinMaxScaler(feature_range=(0,1))\n",
        "scaled_data = scaler.fit_transform(dataset)\n",
        "\n",
        "scaled_data"
      ],
      "metadata": {
        "colab": {
          "base_uri": "https://localhost:8080/"
        },
        "id": "vx-p4zXGIKKg",
        "outputId": "928639d3-e550-40f3-f14c-3b322a92b26d"
      },
      "execution_count": 9,
      "outputs": [
        {
          "output_type": "execute_result",
          "data": {
            "text/plain": [
              "array([[0.04841713],\n",
              "       [0.04990689],\n",
              "       [0.05245189],\n",
              "       ...,\n",
              "       [0.85853504],\n",
              "       [0.85143804],\n",
              "       [0.85890744]])"
            ]
          },
          "metadata": {},
          "execution_count": 9
        }
      ]
    },
    {
      "cell_type": "code",
      "source": [
        "# Create the training data set\n",
        "# Create the scaled training data set\n",
        "train_data = scaled_data[0:int(training_data_len), :]\n",
        "\n",
        "# Split the data into x_train and y_train data sets\n",
        "x_train = []\n",
        "y_train = []\n",
        "\n",
        "for i in range(60, len(train_data)):\n",
        "#It starts from index 60 because we need at least 60 data points to create a sequence of past data points for prediction.\n",
        "  x_train.append(train_data[i-60:i, 0])\n",
        "  y_train.append(train_data[i, 0])\n",
        "  if i<= 61:\n",
        "    print(x_train)\n",
        "    print(y_train)\n",
        "    print()\n",
        "\n",
        "# Convert the x_train and y_train to numpy arrays\n",
        "x_train, y_train = np.array(x_train), np.array(y_train)\n",
        "\n",
        "# Reshape the data\n",
        "x_train = np.reshape(x_train, (x_train.shape[0], x_train.shape[1], 1))"
      ],
      "metadata": {
        "colab": {
          "base_uri": "https://localhost:8080/"
        },
        "id": "L7Wz5SoTIOIg",
        "outputId": "ee0d4b2e-990d-42c4-e0fa-14a10327b117"
      },
      "execution_count": 10,
      "outputs": [
        {
          "output_type": "stream",
          "name": "stdout",
          "text": [
            "[array([0.04841713, 0.04990689, 0.05245189, 0.04967928, 0.04876888,\n",
            "       0.04814815, 0.0468653 , 0.04564452, 0.04554107, 0.04438237,\n",
            "       0.04533415, 0.04489965, 0.04448582, 0.04444444, 0.04866543,\n",
            "       0.04568591, 0.04378232, 0.0424581 , 0.04324436, 0.04297538,\n",
            "       0.04189944, 0.04117525, 0.04165114, 0.04187874, 0.04196151,\n",
            "       0.04074073, 0.04127871, 0.04113387, 0.04111318, 0.0405959 ,\n",
            "       0.03813366, 0.03867162, 0.03591971, 0.03575419, 0.03687151,\n",
            "       0.03658183, 0.03647837, 0.03594041, 0.03612662, 0.03585764,\n",
            "       0.03496793, 0.03505068, 0.03484377, 0.03492654, 0.03494723,\n",
            "       0.03500931, 0.03556796, 0.03829919, 0.03685081, 0.03676805,\n",
            "       0.03523691, 0.0347817 , 0.03527829, 0.03531968, 0.03449204,\n",
            "       0.03418167, 0.03267121, 0.03101592, 0.03080901, 0.03234016])]\n",
            "[0.032940204050382754]\n",
            "\n",
            "[array([0.04841713, 0.04990689, 0.05245189, 0.04967928, 0.04876888,\n",
            "       0.04814815, 0.0468653 , 0.04564452, 0.04554107, 0.04438237,\n",
            "       0.04533415, 0.04489965, 0.04448582, 0.04444444, 0.04866543,\n",
            "       0.04568591, 0.04378232, 0.0424581 , 0.04324436, 0.04297538,\n",
            "       0.04189944, 0.04117525, 0.04165114, 0.04187874, 0.04196151,\n",
            "       0.04074073, 0.04127871, 0.04113387, 0.04111318, 0.0405959 ,\n",
            "       0.03813366, 0.03867162, 0.03591971, 0.03575419, 0.03687151,\n",
            "       0.03658183, 0.03647837, 0.03594041, 0.03612662, 0.03585764,\n",
            "       0.03496793, 0.03505068, 0.03484377, 0.03492654, 0.03494723,\n",
            "       0.03500931, 0.03556796, 0.03829919, 0.03685081, 0.03676805,\n",
            "       0.03523691, 0.0347817 , 0.03527829, 0.03531968, 0.03449204,\n",
            "       0.03418167, 0.03267121, 0.03101592, 0.03080901, 0.03234016]), array([0.04990689, 0.05245189, 0.04967928, 0.04876888, 0.04814815,\n",
            "       0.0468653 , 0.04564452, 0.04554107, 0.04438237, 0.04533415,\n",
            "       0.04489965, 0.04448582, 0.04444444, 0.04866543, 0.04568591,\n",
            "       0.04378232, 0.0424581 , 0.04324436, 0.04297538, 0.04189944,\n",
            "       0.04117525, 0.04165114, 0.04187874, 0.04196151, 0.04074073,\n",
            "       0.04127871, 0.04113387, 0.04111318, 0.0405959 , 0.03813366,\n",
            "       0.03867162, 0.03591971, 0.03575419, 0.03687151, 0.03658183,\n",
            "       0.03647837, 0.03594041, 0.03612662, 0.03585764, 0.03496793,\n",
            "       0.03505068, 0.03484377, 0.03492654, 0.03494723, 0.03500931,\n",
            "       0.03556796, 0.03829919, 0.03685081, 0.03676805, 0.03523691,\n",
            "       0.0347817 , 0.03527829, 0.03531968, 0.03449204, 0.03418167,\n",
            "       0.03267121, 0.03101592, 0.03080901, 0.03234016, 0.0329402 ])]\n",
            "[0.032940204050382754, 0.033560936491173254]\n",
            "\n"
          ]
        }
      ]
    },
    {
      "cell_type": "code",
      "source": [
        "#Now make LSTM model\n",
        "from keras.models import Sequential\n",
        "from keras.layers import Dense, LSTM"
      ],
      "metadata": {
        "id": "ApiUtCOcIifN"
      },
      "execution_count": 11,
      "outputs": []
    },
    {
      "cell_type": "code",
      "source": [
        "# Build the  LSTM (Long Short-Term Memory) model\n",
        "#The LSTM model is a type of recurrent neural network (RNN) that is well-suited for sequence data, such as time series data.\n",
        "model = Sequential()\n",
        "model.add(LSTM(128, return_sequences=True, input_shape=(x_train.shape[1], 1)))\n",
        "model.add(LSTM(64, return_sequences=False))\n",
        "model.add(Dense(25))\n",
        "model.add(Dense(1))\n",
        "\n",
        "\n",
        "#Compile the model\n",
        "model.compile(optimizer='adam', loss='mean_squared_error')\n",
        "\n",
        "# Train the model\n",
        "model.fit(x_train, y_train, batch_size=1, epochs=1)"
      ],
      "metadata": {
        "colab": {
          "base_uri": "https://localhost:8080/"
        },
        "id": "6iKb7UAeInDC",
        "outputId": "b60e7b06-1c03-4713-80d8-d353e05abbe2"
      },
      "execution_count": 12,
      "outputs": [
        {
          "output_type": "stream",
          "name": "stdout",
          "text": [
            "2440/2440 [==============================] - 128s 51ms/step - loss: 0.0012\n"
          ]
        },
        {
          "output_type": "execute_result",
          "data": {
            "text/plain": [
              "<keras.callbacks.History at 0x7a7c16f0f8e0>"
            ]
          },
          "metadata": {},
          "execution_count": 12
        }
      ]
    },
    {
      "cell_type": "code",
      "source": [
        "#Creating the testing data set\n",
        "\n",
        "test_data = scaled_data[training_data_len - 60:, :]\n",
        "\n",
        "# Create the data sets x_test and y_test\n",
        "x_test = []\n",
        "y_test = dataset[training_data_len:, :]\n",
        "\n",
        "for i in range(60, len(test_data)):\n",
        "  x_test.append(test_data[i-60:i, 0])\n",
        "\n",
        "#Convert the data to numpy array\n",
        "x_test = np.array(x_test)\n",
        "\n",
        "# Reshape the data\n",
        "x_test = np.reshape(x_test, (x_test.shape[0], x_test.shape[1],1))"
      ],
      "metadata": {
        "id": "3G6kS7GEIq3o"
      },
      "execution_count": 13,
      "outputs": []
    },
    {
      "cell_type": "code",
      "source": [
        "# Get the models predicted price values\n",
        "predictions = model.predict(x_test)\n",
        "predictions = scaler.inverse_transform(predictions)\n",
        "\n",
        "# Get the root mean squarred error (RMSE)\n",
        "rmse = np.sqrt(np.mean(((predictions - y_test) ** 2)))\n",
        "\n",
        "rmse"
      ],
      "metadata": {
        "colab": {
          "base_uri": "https://localhost:8080/"
        },
        "id": "oKu-QsFXI8ek",
        "outputId": "18fdd1ce-8f4e-46fd-a535-35bbf63b3f51"
      },
      "execution_count": 14,
      "outputs": [
        {
          "output_type": "stream",
          "name": "stdout",
          "text": [
            "5/5 [==============================] - 1s 34ms/step\n"
          ]
        },
        {
          "output_type": "execute_result",
          "data": {
            "text/plain": [
              "78.3927050354782"
            ]
          },
          "metadata": {},
          "execution_count": 14
        }
      ]
    },
    {
      "cell_type": "code",
      "source": [
        "# Plot the data\n",
        "train = data[:training_data_len]\n",
        "valid = data[training_data_len:]\n",
        "valid['Predictions'] = predictions\n",
        "# Visualize the data\n",
        "plt.figure(figsize=(16,6))\n",
        "plt.title('Model')\n",
        "plt.xlabel('Date', fontsize=18)\n",
        "plt.ylabel('Close Price USD (INR)', fontsize=18)\n",
        "plt.plot(train['Close'])\n",
        "plt.plot(valid[['Close', 'Predictions']])\n",
        "plt.legend(['Train', 'Val', 'Predictions'], loc='lower right')\n",
        "plt.show()"
      ],
      "metadata": {
        "colab": {
          "base_uri": "https://localhost:8080/",
          "height": 470
        },
        "id": "8XtnzgjBI_-Q",
        "outputId": "b61671d9-4114-4fc7-d7d3-d622694cd76e"
      },
      "execution_count": 17,
      "outputs": [
        {
          "output_type": "stream",
          "name": "stderr",
          "text": [
            "<ipython-input-17-e8c5cebcb6c0>:4: SettingWithCopyWarning: \n",
            "A value is trying to be set on a copy of a slice from a DataFrame.\n",
            "Try using .loc[row_indexer,col_indexer] = value instead\n",
            "\n",
            "See the caveats in the documentation: https://pandas.pydata.org/pandas-docs/stable/user_guide/indexing.html#returning-a-view-versus-a-copy\n",
            "  valid['Predictions'] = predictions\n"
          ]
        },
        {
          "output_type": "display_data",
          "data": {
            "text/plain": [
              "<Figure size 1600x600 with 1 Axes>"
            ],
            "image/png": "[encoded data removed]"
          },
          "metadata": {}
        }
      ]
    },
    {
      "cell_type": "code",
      "source": [
        "#Show the valid and predicted prices\n",
        "valid"
      ],
      "metadata": {
        "colab": {
          "base_uri": "https://localhost:8080/",
          "height": 455
        },
        "id": "LfOBo2GKJC9I",
        "outputId": "0fbd0e15-e7e1-461f-b616-26b92fcdf732"
      },
      "execution_count": 16,
      "outputs": [
        {
          "output_type": "execute_result",
          "data": {
            "text/plain": [
              "                  Close  Predictions\n",
              "Date                                \n",
              "2023-02-16  2216.399902  2300.991455\n",
              "2023-02-17  2213.350098  2289.401123\n",
              "2023-02-20  2107.050049  2279.252197\n",
              "2023-02-21  2066.600098  2236.173096\n",
              "2023-02-22  2006.199951  2183.167969\n",
              "...                 ...          ...\n",
              "2023-08-23  2430.600098  2557.065430\n",
              "2023-08-24  2424.850098  2534.146484\n",
              "2023-08-25  2425.250000  2521.705078\n",
              "2023-08-28  2408.100098  2518.530273\n",
              "2023-08-29  2426.149902  2513.875488\n",
              "\n",
              "[131 rows x 2 columns]"
            ],
            "text/html": [
              "\n",
              "  <div id=\"df-200d04e0-318d-4313-b70b-a9427be1cdbd\" class=\"colab-df-container\">\n",
              "    <div>\n",
              "<style scoped>\n",
              "    .dataframe tbody tr th:only-of-type {\n",
              "        vertical-align: middle;\n",
              "    }\n",
              "\n",
              "    .dataframe tbody tr th {\n",
              "        vertical-align: top;\n",
              "    }\n",
              "\n",
              "    .dataframe thead th {\n",
              "        text-align: right;\n",
              "    }\n",
              "</style>\n",
              "<table border=\"1\" class=\"dataframe\">\n",
              "  <thead>\n",
              "    <tr style=\"text-align: right;\">\n",
              "      <th></th>\n",
              "      <th>Close</th>\n",
              "      <th>Predictions</th>\n",
              "    </tr>\n",
              "    <tr>\n",
              "      <th>Date</th>\n",
              "      <th></th>\n",
              "      <th></th>\n",
              "    </tr>\n",
              "  </thead>\n",
              "  <tbody>\n",
              "    <tr>\n",
              "      <th>2023-02-16</th>\n",
              "      <td>2216.399902</td>\n",
              "      <td>2300.991455</td>\n",
              "    </tr>\n",
              "    <tr>\n",
              "      <th>2023-02-17</th>\n",
              "      <td>2213.350098</td>\n",
              "      <td>2289.401123</td>\n",
              "    </tr>\n",
              "    <tr>\n",
              "      <th>2023-02-20</th>\n",
              "      <td>2107.050049</td>\n",
              "      <td>2279.252197</td>\n",
              "    </tr>\n",
              "    <tr>\n",
              "      <th>2023-02-21</th>\n",
              "      <td>2066.600098</td>\n",
              "      <td>2236.173096</td>\n",
              "    </tr>\n",
              "    <tr>\n",
              "      <th>2023-02-22</th>\n",
              "      <td>2006.199951</td>\n",
              "      <td>2183.167969</td>\n",
              "    </tr>\n",
              "    <tr>\n",
              "      <th>...</th>\n",
              "      <td>...</td>\n",
              "      <td>...</td>\n",
              "    </tr>\n",
              "    <tr>\n",
              "      <th>2023-08-23</th>\n",
              "      <td>2430.600098</td>\n",
              "      <td>2557.065430</td>\n",
              "    </tr>\n",
              "    <tr>\n",
              "      <th>2023-08-24</th>\n",
              "      <td>2424.850098</td>\n",
              "      <td>2534.146484</td>\n",
              "    </tr>\n",
              "    <tr>\n",
              "      <th>2023-08-25</th>\n",
              "      <td>2425.250000</td>\n",
              "      <td>2521.705078</td>\n",
              "    </tr>\n",
              "    <tr>\n",
              "      <th>2023-08-28</th>\n",
              "      <td>2408.100098</td>\n",
              "      <td>2518.530273</td>\n",
              "    </tr>\n",
              "    <tr>\n",
              "      <th>2023-08-29</th>\n",
              "      <td>2426.149902</td>\n",
              "      <td>2513.875488</td>\n",
              "    </tr>\n",
              "  </tbody>\n",
              "</table>\n",
              "<p>131 rows × 2 columns</p>\n",
              "</div>\n",
              "    <div class=\"colab-df-buttons\">\n",
              "\n",
              "  <div class=\"colab-df-container\">\n",
              "    <button class=\"colab-df-convert\" onclick=\"convertToInteractive('df-200d04e0-318d-4313-b70b-a9427be1cdbd')\"\n",
              "            title=\"Convert this dataframe to an interactive table.\"\n",
              "            style=\"display:none;\">\n",
              "\n",
              "  <svg xmlns=\"http://www.w3.org/2000/svg\" height=\"24px\" viewBox=\"0 -960 960 960\">\n",
              "    <path d=\"M120-120v-720h720v720H120Zm60-500h600v-160H180v160Zm220 220h160v-160H400v160Zm0 220h160v-160H400v160ZM180-400h160v-160H180v160Zm440 0h160v-160H620v160ZM180-180h160v-160H180v160Zm440 0h160v-160H620v160Z\"/>\n",
              "  </svg>\n",
              "    </button>\n",
              "\n",
              "  <style>\n",
              "    .colab-df-container {\n",
              "      display:flex;\n",
              "      gap: 12px;\n",
              "    }\n",
              "\n",
              "    .colab-df-convert {\n",
              "      background-color: #E8F0FE;\n",
              "      border: none;\n",
              "      border-radius: 50%;\n",
              "      cursor: pointer;\n",
              "      display: none;\n",
              "      fill: #1967D2;\n",
              "      height: 32px;\n",
              "      padding: 0 0 0 0;\n",
              "      width: 32px;\n",
              "    }\n",
              "\n",
              "    .colab-df-convert:hover {\n",
              "      background-color: #E2EBFA;\n",
              "      box-shadow: 0px 1px 2px rgba(60, 64, 67, 0.3), 0px 1px 3px 1px rgba(60, 64, 67, 0.15);\n",
              "      fill: #174EA6;\n",
              "    }\n",
              "\n",
              "    .colab-df-buttons div {\n",
              "      margin-bottom: 4px;\n",
              "    }\n",
              "\n",
              "    [theme=dark] .colab-df-convert {\n",
              "      background-color: #3B4455;\n",
              "      fill: #D2E3FC;\n",
              "    }\n",
              "\n",
              "    [theme=dark] .colab-df-convert:hover {\n",
              "      background-color: #434B5C;\n",
              "      box-shadow: 0px 1px 3px 1px rgba(0, 0, 0, 0.15);\n",
              "      filter: drop-shadow(0px 1px 2px rgba(0, 0, 0, 0.3));\n",
              "      fill: #FFFFFF;\n",
              "    }\n",
              "  </style>\n",
              "\n",
              "    <script>\n",
              "      const buttonEl =\n",
              "        document.querySelector('#df-200d04e0-318d-4313-b70b-a9427be1cdbd button.colab-df-convert');\n",
              "      buttonEl.style.display =\n",
              "        google.colab.kernel.accessAllowed ? 'block' : 'none';\n",
              "\n",
              "      async function convertToInteractive(key) {\n",
              "        const element = document.querySelector('#df-200d04e0-318d-4313-b70b-a9427be1cdbd');\n",
              "        const dataTable =\n",
              "          await google.colab.kernel.invokeFunction('convertToInteractive',\n",
              "                                                    [key], {});\n",
              "        if (!dataTable) return;\n",
              "\n",
              "        const docLinkHtml = 'Like what you see? Visit the ' +\n",
              "          '<a target=\"_blank\" href=https://colab.research.google.com/notebooks/data_table.ipynb>data table notebook</a>'\n",
              "          + ' to learn more about interactive tables.';\n",
              "        element.innerHTML = '';\n",
              "        dataTable['output_type'] = 'display_data';\n",
              "        await google.colab.output.renderOutput(dataTable, element);\n",
              "        const docLink = document.createElement('div');\n",
              "        docLink.innerHTML = docLinkHtml;\n",
              "        element.appendChild(docLink);\n",
              "      }\n",
              "    </script>\n",
              "  </div>\n",
              "\n",
              "\n",
              "<div id=\"df-848b5783-2350-42e1-b5bd-ed99377f2f6f\">\n",
              "  <button class=\"colab-df-quickchart\" onclick=\"quickchart('df-848b5783-2350-42e1-b5bd-ed99377f2f6f')\"\n",
              "            title=\"Suggest charts.\"\n",
              "            style=\"display:none;\">\n",
              "\n",
              "<svg xmlns=\"http://www.w3.org/2000/svg\" height=\"24px\"viewBox=\"0 0 24 24\"\n",
              "     width=\"24px\">\n",
              "    <g>\n",
              "        <path d=\"M19 3H5c-1.1 0-2 .9-2 2v14c0 1.1.9 2 2 2h14c1.1 0 2-.9 2-2V5c0-1.1-.9-2-2-2zM9 17H7v-7h2v7zm4 0h-2V7h2v10zm4 0h-2v-4h2v4z\"/>\n",
              "    </g>\n",
              "</svg>\n",
              "  </button>\n",
              "\n",
              "<style>\n",
              "  .colab-df-quickchart {\n",
              "    background-color: #E8F0FE;\n",
              "    border: none;\n",
              "    border-radius: 50%;\n",
              "    cursor: pointer;\n",
              "    display: none;\n",
              "    fill: #1967D2;\n",
              "    height: 32px;\n",
              "    padding: 0 0 0 0;\n",
              "    width: 32px;\n",
              "  }\n",
              "\n",
              "  .colab-df-quickchart:hover {\n",
              "    background-color: #E2EBFA;\n",
              "    box-shadow: 0px 1px 2px rgba(60, 64, 67, 0.3), 0px 1px 3px 1px rgba(60, 64, 67, 0.15);\n",
              "    fill: #174EA6;\n",
              "  }\n",
              "\n",
              "  [theme=dark] .colab-df-quickchart {\n",
              "    background-color: #3B4455;\n",
              "    fill: #D2E3FC;\n",
              "  }\n",
              "\n",
              "  [theme=dark] .colab-df-quickchart:hover {\n",
              "    background-color: #434B5C;\n",
              "    box-shadow: 0px 1px 3px 1px rgba(0, 0, 0, 0.15);\n",
              "    filter: drop-shadow(0px 1px 2px rgba(0, 0, 0, 0.3));\n",
              "    fill: #FFFFFF;\n",
              "  }\n",
              "</style>\n",
              "\n",
              "  <script>\n",
              "    async function quickchart(key) {\n",
              "      const charts = await google.colab.kernel.invokeFunction(\n",
              "          'suggestCharts', [key], {});\n",
              "    }\n",
              "    (() => {\n",
              "      let quickchartButtonEl =\n",
              "        document.querySelector('#df-848b5783-2350-42e1-b5bd-ed99377f2f6f button');\n",
              "      quickchartButtonEl.style.display =\n",
              "        google.colab.kernel.accessAllowed ? 'block' : 'none';\n",
              "    })();\n",
              "  </script>\n",
              "</div>\n",
              "    </div>\n",
              "  </div>\n"
            ]
          },
          "metadata": {},
          "execution_count": 16
        }
      ]
    },
    {
      "cell_type": "code",
      "source": [
        "def calculate_mape(actual_prices, predicted_prices):\n",
        "    n = len(actual_prices)\n",
        "    total_mape = 0\n",
        "\n",
        "    for actual, predicted in zip(actual_prices, predicted_prices):\n",
        "        mape = abs((actual - predicted) / actual) * 100\n",
        "        total_mape += mape\n",
        "\n",
        "    mean_mape = total_mape / n\n",
        "    return mean_mape\n",
        "\n",
        "# Example data\n",
        "actual_prices = valid['Close']\n",
        "predicted_prices = valid['Predictions']\n",
        "\n",
        "mape = calculate_mape(actual_prices, predicted_prices)\n",
        "print(f\"Mean Absolute Percentage Error (MAPE): {mape:.2f}%\")\n",
        "\n"
      ],
      "metadata": {
        "colab": {
          "base_uri": "https://localhost:8080/"
        },
        "id": "3-nc17dILf2j",
        "outputId": "2c8e5645-dea9-4ca2-9cc5-004666bd7fbd"
      },
      "execution_count": 19,
      "outputs": [
        {
          "output_type": "stream",
          "name": "stdout",
          "text": [
            "Mean Absolute Percentage Error (MAPE): 3.08%\n"
          ]
        }
      ]
    },
    {
      "cell_type": "code",
      "source": [],
      "metadata": {
        "id": "15hjedwmML_D"
      },
      "execution_count": null,
      "outputs": []
    }
  ]
}